{
 "cells": [
  {
   "cell_type": "code",
   "execution_count": 1,
   "metadata": {},
   "outputs": [
    {
     "data": {
      "text/plain": [
       "'nguenyyiel_terkidi_baseline.geojson'"
      ]
     },
     "execution_count": 1,
     "metadata": {},
     "output_type": "execute_result"
    }
   ],
   "source": [
    "import geopandas as gpd\n",
    "import pandas as pd\n",
    "\n",
    "\n",
    "# File paths\n",
    "nguenyyiel_path = \"nguenyyiel_baseline.geojson\"\n",
    "terkidi_path = \"terkidi_baseline.geojson\"\n",
    "nguenyyiel_terkidi_path = \"nguenyyiel_terkidi_baseline.geojson\"\n",
    "\n",
    "# Load GeoJSON files into GeoDataFrames\n",
    "gdf1 = gpd.read_file(nguenyyiel_path)\n",
    "gdf2 = gpd.read_file(terkidi_path)\n",
    "\n",
    "# Merge the two GeoDataFrames\n",
    "gdf_merged = gpd.GeoDataFrame(pd.concat([gdf1, gdf2], ignore_index=True))\n",
    "\n",
    "\n",
    "# Save the merged GeoDataFrame to a new GeoJSON file\n",
    "gdf_merged.to_file(nguenyyiel_terkidi_path, driver=\"GeoJSON\")\n",
    "\n",
    "# Return the output file path\n",
    "nguenyyiel_terkidi_path\n"
   ]
  }
 ],
 "metadata": {
  "kernelspec": {
   "display_name": "gambella_refcamps",
   "language": "python",
   "name": "python3"
  },
  "language_info": {
   "codemirror_mode": {
    "name": "ipython",
    "version": 3
   },
   "file_extension": ".py",
   "mimetype": "text/x-python",
   "name": "python",
   "nbconvert_exporter": "python",
   "pygments_lexer": "ipython3",
   "version": "3.12.7"
  }
 },
 "nbformat": 4,
 "nbformat_minor": 2
}
